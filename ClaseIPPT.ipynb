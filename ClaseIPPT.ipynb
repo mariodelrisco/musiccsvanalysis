{
 "cells": [
  {
   "cell_type": "code",
   "execution_count": null,
   "metadata": {
    "collapsed": true,
    "slideshow": {
     "slide_type": "slide"
    }
   },
   "outputs": [],
   "source": [
    "Introducción a Data Science"
   ]
  },
  {
   "cell_type": "code",
   "execution_count": null,
   "metadata": {
    "collapsed": true,
    "slideshow": {
     "slide_type": "slide"
    }
   },
   "outputs": [],
   "source": [
    "Hola! (Presentación mía y antecedentes del alumnado)"
   ]
  },
  {
   "cell_type": "code",
   "execution_count": null,
   "metadata": {
    "collapsed": true,
    "slideshow": {
     "slide_type": "slide"
    }
   },
   "outputs": [],
   "source": [
    "Outline del Curso:\n",
    "    8 clases\n",
    "    Introducción y Python I\n",
    "    Python II\n",
    "    Python III - Numpy, Regex, Requests\n",
    "    Python IV - Pandas\n",
    "    Estadística I y Visualización - Matplotlib, Seaborn\n",
    "    Estadística II - Statsmodels\n",
    "    Machine Learning I - Sci-kit learn\n",
    "    Machine Learning II"
   ]
  },
  {
   "cell_type": "raw",
   "metadata": {
    "slideshow": {
     "slide_type": "slide"
    }
   },
   "source": [
    "Metodología:\n",
    "    Parte expositiva:\n",
    "        Diapositivas\n",
    "        Ejemplos\n",
    "    Parte práctica"
   ]
  },
  {
   "cell_type": "code",
   "execution_count": null,
   "metadata": {
    "collapsed": true,
    "slideshow": {
     "slide_type": "slide"
    }
   },
   "outputs": [],
   "source": [
    "Qué es Data Science?\n",
    "\n",
    "imagen ds.wordle.png"
   ]
  },
  {
   "cell_type": "raw",
   "metadata": {},
   "source": [
    "Data science es la utilización de estadística y herramientas informáticas para sacar conclusiones de un conjunto de datos. Hoy en día casi todos los aspectos de nuestra vida están mediados por algún sistema o aparato electrónico, capaz de generar datos digitales, por lo que el trabajo de análisis de datos cada vez está más presente. Tradicionalmente, la Estadística es la ciencia que se ocupa de recolectar, describir, analizar y establecer probabilidades a partir de valores numéricos. Se puede dividir en:"
   ]
  },
  {
   "cell_type": "code",
   "execution_count": null,
   "metadata": {
    "collapsed": true
   },
   "outputs": [],
   "source": [
    "Estadistica descriptiva\n",
    "\n",
    "-definicion, algunas imagenes de graficoss-"
   ]
  },
  {
   "cell_type": "code",
   "execution_count": null,
   "metadata": {
    "collapsed": true
   },
   "outputs": [],
   "source": [
    "Estaadística inferencial\n",
    "\n",
    "-definicion-"
   ]
  },
  {
   "cell_type": "raw",
   "metadata": {},
   "source": [
    "Imagen diagram.jpg"
   ]
  },
  {
   "cell_type": "code",
   "execution_count": null,
   "metadata": {
    "collapsed": true
   },
   "outputs": [],
   "source": [
    "imagen process.jpg"
   ]
  },
  {
   "cell_type": "code",
   "execution_count": null,
   "metadata": {
    "collapsed": true
   },
   "outputs": [],
   "source": [
    "Algunos conceptos generales de estadística:\n",
    "\n",
    "Algunos conceptos de estadística:\n",
    "ELEMENTOS O UNIDADES: Son las entidades acerca de las que se reúnen datos\n",
    "POBLACIÓN DE INDIVIDUOS: Es el conjunto de todos los elementos sobre los cuales se observa una o más características de Interés. Frecuentemente se alude a ella como población objetivo, en razón de que sobre ella recae el objetivo, el interés del estudio.\n",
    "MUESTRA DE INDIVIDUOS: Es un subconjunto o parte de una población de individuos.\n",
    "POBLACIÓN DE OBSERVACIONES: Es el conjunto de todos los valores que puede tomar una variable estadística sobre la población de individuos. Sobre una misma población de individuos se pueden definir muchas poblaciones de observaciones, tantas como variables de Interés.\n",
    "MUESTRA DE OBSERVACIONES: Es el conjunto de valores que toma una variable estadística sobre una muestra de individuos; es decir, es un subconjunto de la población de observaciones."
   ]
  },
  {
   "cell_type": "code",
   "execution_count": null,
   "metadata": {
    "collapsed": true
   },
   "outputs": [],
   "source": [
    "PARÁMETRO: Es una característica fija, generalmente numérica, de la población de valores de una variable.\n",
    "ESTADÍSTICO: Es una característica muestral y, como tal, es una variable porque sus valores dependen de la muestra que salga seleccionada. Cada valor del estadístico se obtiene como función de las observaciones de una muestra.\n",
    "ESTIMADOR: Es un estadístico cuyos valores se consideran próximos a un parámetro que, por ser generalmente desconocido, se desea estimar.\n",
    "VARIABLE O CARACTERÍSTICA: Es una característica de un fenómeno observable en los individuos de una población. Es una variable propiamente dicha cuando presenta diferentes modalidades (dos o más) entre los individuos.\n",
    "VARIABLE ESTADÍSTICA: Es una representación, a través de números u otros símbolos, de una variable. Esta representación se obtiene mediante algún procedimiento de medición.\n",
    "OPERACIONALIZACION: Es definir un correlato empírico de un CONSTRUCTO que se quiere medir.\n",
    "\n",
    "imagen muestra.jpg"
   ]
  },
  {
   "cell_type": "raw",
   "metadata": {},
   "source": [
    "Tipos de Variables\n",
    "\n",
    "Variable CUALITATIVA: es aquella cuyos valores expresan atributos. Ejemplo: Diagnósticos clínicos\n",
    "Variable CUASI-CUANTITATIVA u ORDINAL: es aquella cuyos valores indican un orden o jerarquía. Ejemplo: Nivel de deserción escolar (bajo, medio, alto). Grado de acuerdo con una frase.\n",
    "\n",
    "Variable CUANTITATIVA: es aquella cuyos valores expresan cantidades numéricas. Dentro de las variables cuantitativas se diferencias las llamadas discretas de las continuas. Se consideran discretas aquellas cuyos valores son puntos aislados; esto es, cuando todo valor tiene un consecutivo. Se dice que dos valores son consecutivos cuando no puede existir un valor de la variable entre ellos."
   ]
  },
  {
   "cell_type": "code",
   "execution_count": null,
   "metadata": {
    "collapsed": true
   },
   "outputs": [],
   "source": []
  },
  {
   "cell_type": "raw",
   "metadata": {},
   "source": [
    "PYTHON"
   ]
  },
  {
   "cell_type": "raw",
   "metadata": {},
   "source": [
    "-algo de historia-? (deja la diapo con esto para agregar)"
   ]
  },
  {
   "cell_type": "code",
   "execution_count": null,
   "metadata": {
    "collapsed": true
   },
   "outputs": [],
   "source": [
    "características (interpretado, paradigmas, etc)"
   ]
  },
  {
   "cell_type": "raw",
   "metadata": {},
   "source": [
    "Es un lenguaje de \"alto nivel\". Permite muchos paradigmas de programación (originalmente orientado a objetos, programación imperativa, declarativa, funcional...). Es de los 5 lenguajes de programación actualmente más populares, y sigue subiendo en la lista.\n",
    "\n",
    "-gráfico evolución lenguajes-"
   ]
  },
  {
   "cell_type": "code",
   "execution_count": null,
   "metadata": {
    "collapsed": true
   },
   "outputs": [],
   "source": [
    "Por que no R??"
   ]
  },
  {
   "cell_type": "raw",
   "metadata": {},
   "source": [
    "En el proceso de hacer data science, uno generalmente debe realizar distintos tipos de tarea, como scrapear datos de la web, guardarlos en un archivo, limpiarlos y ordenarlos, visualizarlos, hacer pruebas estadísticas... o inclusive producir programas que generen datos de algún modo, como un paradigma científico.\n",
    "Al ser Python un lenguaje de propósito general, es auto-suficiente dentro de Data Science."
   ]
  },
  {
   "cell_type": "raw",
   "metadata": {},
   "source": [
    "Jupyter Notebook\n",
    "-captura de una notebook-"
   ]
  },
  {
   "cell_type": "code",
   "execution_count": null,
   "metadata": {
    "collapsed": true
   },
   "outputs": [],
   "source": [
    "-qué es-"
   ]
  },
  {
   "cell_type": "code",
   "execution_count": null,
   "metadata": {
    "collapsed": true
   },
   "outputs": [],
   "source": [
    "-imagen con flechas para uso básico-"
   ]
  },
  {
   "cell_type": "raw",
   "metadata": {},
   "source": [
    "Práctica guiada en Notebook, y parte práctica"
   ]
  },
  {
   "cell_type": "code",
   "execution_count": null,
   "metadata": {
    "collapsed": true
   },
   "outputs": [],
   "source": []
  },
  {
   "cell_type": "code",
   "execution_count": null,
   "metadata": {
    "collapsed": true
   },
   "outputs": [],
   "source": []
  },
  {
   "cell_type": "code",
   "execution_count": null,
   "metadata": {
    "collapsed": true
   },
   "outputs": [],
   "source": []
  }
 ],
 "metadata": {
  "celltoolbar": "Slideshow",
  "kernelspec": {
   "display_name": "Python 3",
   "language": "python",
   "name": "python3"
  },
  "language_info": {
   "codemirror_mode": {
    "name": "ipython",
    "version": 3
   },
   "file_extension": ".py",
   "mimetype": "text/x-python",
   "name": "python",
   "nbconvert_exporter": "python",
   "pygments_lexer": "ipython3",
   "version": "3.6.1"
  }
 },
 "nbformat": 4,
 "nbformat_minor": 2
}
